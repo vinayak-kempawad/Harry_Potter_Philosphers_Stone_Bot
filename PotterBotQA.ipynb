{
  "nbformat": 4,
  "nbformat_minor": 0,
  "metadata": {
    "colab": {
      "provenance": []
    },
    "kernelspec": {
      "name": "python3",
      "display_name": "Python 3"
    },
    "language_info": {
      "name": "python"
    }
  },
  "cells": [
    {
      "cell_type": "markdown",
      "source": [
        "More details - https://github.com/embedchain/embedchain"
      ],
      "metadata": {
        "id": "XPmBz2Wll_W_"
      }
    },
    {
      "cell_type": "code",
      "source": [
        "! pip install -r requirments.txt"
      ],
      "metadata": {
        "id": "1RDcd9HemALi"
      },
      "execution_count": null,
      "outputs": []
    },
    {
      "cell_type": "markdown",
      "source": [
        "# Setup OpenAI Key"
      ],
      "metadata": {
        "id": "4QXHNezglpAK"
      }
    },
    {
      "cell_type": "code",
      "source": [
        "import os\n",
        "os.environ['OPENAI_API_KEY'] = \"<<YOUR KEY>>\""
      ],
      "metadata": {
        "id": "gkM6IjLXmWsZ"
      },
      "execution_count": null,
      "outputs": []
    },
    {
      "cell_type": "code",
      "source": [
        "from embedchain import App"
      ],
      "metadata": {
        "id": "bsfsCMc9mezs"
      },
      "execution_count": null,
      "outputs": []
    },
    {
      "cell_type": "code",
      "source": [
        "harry_potter_bot = App()"
      ],
      "metadata": {
        "id": "S-bNfugQmkFU"
      },
      "execution_count": null,
      "outputs": []
    },
    {
      "cell_type": "code",
      "source": [
        "harry_potter_bot.add(\"pdf_file\", \"./JK Rowling - Harry Potter and the philosophers stone (Original Bloomsbury).pdf\")\n"
      ],
      "metadata": {
        "colab": {
          "base_uri": "https://localhost:8080/"
        },
        "id": "4EDxRU9WmxWx",
        "outputId": "04e668f4-6ae4-4244-d817-4eb525b57b75"
      },
      "execution_count": null,
      "outputs": [
        {
          "output_type": "stream",
          "name": "stdout",
          "text": [
            "All data from /content/JK Rowling - Harry Potter and the philosophers stone (Original Bloomsbury).pdf already exists in the database.\n"
          ]
        }
      ]
    },
    {
      "cell_type": "code",
      "source": [
        "harry_potter_bot.add_local(\"qna_pair\", (\"Who are Harry's friends?\", \"Ronald Weasely and Hermoine Granger are Harry's friends.\"))\n"
      ],
      "metadata": {
        "colab": {
          "base_uri": "https://localhost:8080/"
        },
        "id": "RIMjdRvrmBVg",
        "outputId": "fd0c9167-72db-4a4c-f120-73852915256b"
      },
      "execution_count": null,
      "outputs": [
        {
          "output_type": "stream",
          "name": "stdout",
          "text": [
            "Successfully saved (\"Who are Harry's friends?\", \"Ronald Weasely and Hermoine Granger are Harry's friends.\"). Total chunks count: 584\n"
          ]
        }
      ]
    },
    {
      "cell_type": "code",
      "source": [
        "print(harry_potter_bot.query(\"Where does Harry Potter go to School?\"))\n"
      ],
      "metadata": {
        "colab": {
          "base_uri": "https://localhost:8080/"
        },
        "id": "ZzUR0ytrnlwe",
        "outputId": "629b3d02-537f-4d70-de87-f895958178ec"
      },
      "execution_count": null,
      "outputs": [
        {
          "output_type": "stream",
          "name": "stdout",
          "text": [
            "Harry Potter goes to school at Hogwarts.\n"
          ]
        }
      ]
    },
    {
      "cell_type": "code",
      "source": [
        "print(harry_potter_bot.query(\"Write a poem about hogwarts.\"))"
      ],
      "metadata": {
        "colab": {
          "base_uri": "https://localhost:8080/"
        },
        "id": "2FL7MJewn4iW",
        "outputId": "be7f01c8-8581-47f4-eece-0e512aa6fe6f"
      },
      "execution_count": null,
      "outputs": [
        {
          "output_type": "stream",
          "name": "stdout",
          "text": [
            "In a castle tall, where magic thrives,\n",
            "Lies a school where dreams come alive.\n",
            "Hogwarts, a place of wonder and awe,\n",
            "Where witches and wizards learn and draw.\n",
            "\n",
            "With Headmaster Dumbledore at the helm,\n",
            "Guiding students through their magical realm.\n",
            "Spells and potions, charms and hexes,\n",
            "In the classrooms, the magic flexes.\n",
            "\n",
            "Gryffindor, Hufflepuff, Ravenclaw, and Slytherin,\n",
            "Four houses united, yet each with their own spin.\n",
            "Courage, loyalty, wisdom, and ambition,\n",
            "Traits that shape each student's mission.\n",
            "\n",
            "Quidditch matches in the sky,\n",
            "Seekers soaring, brooms held high.\n",
            "The Golden Snitch, a prize to chase,\n",
            "In the air, a thrilling race.\n",
            "\n",
            "The Great Hall, where feasts unfold,\n",
            "With food and laughter, stories untold.\n",
            "Floating candles, enchanted ceiling,\n",
            "A magical ambiance, so appealing.\n",
            "\n",
            "From the Whomping Willow to the Forbidden Forest,\n",
            "Mysteries and adventures, never at rest.\n",
            "Hidden corridors, secret passages,\n",
            "Hogwarts holds countless magical stages.\n",
            "\n",
            "Friendships forged, bonds that grow,\n",
            "In the common rooms, a warm glow.\n",
            "Lessons learned, knowledge gained,\n",
            "In the halls of Hogwarts, forever ingrained.\n",
            "\n",
            "So let us raise our wands up high,\n",
            "To Hogwarts, where dreams can't die.\n",
            "A place of magic, love, and lore,\n",
            "Hogwarts, forever, we adore.\n"
          ]
        }
      ]
    },
    {
      "cell_type": "code",
      "source": [
        "while True:\n",
        "  ans = harry_potter_bot.query(input(\"What do you want to know about Harry Potter?\")\n",
        "  print(ans)"
      ],
      "metadata": {
        "id": "mBw7sFMcrLKI"
      },
      "execution_count": null,
      "outputs": []
    }
  ]
}